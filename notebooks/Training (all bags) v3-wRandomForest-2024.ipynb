{
 "cells": [
  {
   "cell_type": "code",
   "execution_count": 65,
   "id": "9c7d5df6",
   "metadata": {},
   "outputs": [
    {
     "name": "stderr",
     "output_type": "stream",
     "text": [
      "Intel(R) Extension for Scikit-learn* enabled (https://github.com/intel/scikit-learn-intelex)\n"
     ]
    }
   ],
   "source": [
    "import matplotlib.pyplot as plt\n",
    "import numpy as np\n",
    "\n",
    "from sklearnex import patch_sklearn\n",
    "patch_sklearn()\n",
    "\n",
    "from matplotlib import rc\n",
    "import matplotlib.ticker as tkr\n",
    "import matplotlib.dates as mdates\n",
    "from datetime import datetime, timedelta\n",
    "from matplotlib.colors import ListedColormap\n",
    "import seaborn as sns\n",
    "sns.set_style(\"whitegrid\")\n",
    "sns.set_style(\"ticks\")\n",
    "import scipy.io as sio\n",
    "\n",
    "import pandas as pd\n",
    "\n",
    "import sys\n",
    "\n",
    "%matplotlib inline\n",
    "\n",
    "from matplotlib.pylab import rcParams\n",
    "rcParams['figure.figsize'] = 10, 8\n",
    "rcParams['figure.dpi'] = 90\n",
    "\n",
    "%config InlineBackend.figure_format = 'retina'\n",
    "\n",
    "import warnings\n",
    "warnings.filterwarnings('ignore')"
   ]
  },
  {
   "cell_type": "code",
   "execution_count": 66,
   "id": "2760dc89",
   "metadata": {},
   "outputs": [],
   "source": [
    "from sklearn import linear_model\n",
    "import pandas as pd\n",
    "import matplotlib.pyplot as plt\n",
    "import numpy as np\n",
    "from matplotlib.pylab import rc, plot\n",
    "import seaborn as sns\n",
    "from sklearn.preprocessing import LabelEncoder, OneHotEncoder\n",
    "from sklearn.model_selection import cross_val_score\n",
    "from sklearn.linear_model import LogisticRegression\n",
    "from sklearn.ensemble import RandomForestClassifier, GradientBoostingClassifier, RandomForestRegressor\n",
    "from sklearn.metrics import precision_recall_curve, classification_report\n",
    "from sklearn.model_selection import train_test_split\n",
    "from pandas import read_csv, DataFrame\n",
    "from sklearn.metrics import roc_curve\n",
    "from sklearn.ensemble import RandomForestClassifier, GradientBoostingClassifier\n",
    "# from sklearn.cross_validation import train_test_split\n",
    "from sklearn.naive_bayes import GaussianNB\n",
    "from sklearn.neighbors import KNeighborsClassifier\n",
    "from sklearn.decomposition import PCA\n",
    "# import ml_metrics, string, re, pylab as pl\n",
    "from sklearn.svm import LinearSVC\n",
    "from sklearn.metrics import mean_squared_error, r2_score, median_absolute_error, explained_variance_score, accuracy_score\n",
    "from sklearn import svm\n",
    "from sklearn.neural_network import MLPRegressor"
   ]
  },
  {
   "cell_type": "code",
   "execution_count": 70,
   "id": "f4177c8f",
   "metadata": {},
   "outputs": [],
   "source": [
    "dfo = pd.read_csv('/home/sir/farmy/ch.farmy.scinode/development/9631-update/farmy_bags_forecast_v2.csv')"
   ]
  },
  {
   "cell_type": "code",
   "execution_count": 76,
   "id": "a0229411",
   "metadata": {},
   "outputs": [
    {
     "data": {
      "text/plain": [
       "count    304273.000000\n",
       "mean          3.148058\n",
       "std           1.932858\n",
       "min           0.000000\n",
       "1%            0.000000\n",
       "2%            0.000000\n",
       "50%           3.000000\n",
       "95%           6.000000\n",
       "98%           8.000000\n",
       "99%           9.000000\n",
       "99.9%        14.000000\n",
       "max          39.000000\n",
       "Name: bags_used, dtype: float64"
      ]
     },
     "execution_count": 76,
     "metadata": {},
     "output_type": "execute_result"
    }
   ],
   "source": [
    "dfo.bags_used.describe(percentiles=[0.01, 0.02, 0.95, 0.98, 0.99, 0.999])"
   ]
  },
  {
   "cell_type": "code",
   "execution_count": 77,
   "id": "0e908a7c",
   "metadata": {},
   "outputs": [
    {
     "data": {
      "text/plain": [
       "count    3.045980e+05\n",
       "mean     1.043594e+04\n",
       "std      1.033456e+04\n",
       "min      0.000000e+00\n",
       "1%       0.000000e+00\n",
       "2%       2.500000e+02\n",
       "50%      8.258500e+03\n",
       "95%      2.657500e+04\n",
       "98%      3.700000e+04\n",
       "99%      4.800000e+04\n",
       "99.9%    8.321717e+04\n",
       "max      1.012805e+06\n",
       "Name: total_weight, dtype: float64"
      ]
     },
     "execution_count": 77,
     "metadata": {},
     "output_type": "execute_result"
    }
   ],
   "source": [
    "dfo.total_weight.describe(percentiles=[0.01, 0.02, 0.95, 0.98, 0.99, 0.999])"
   ]
  },
  {
   "cell_type": "code",
   "execution_count": null,
   "id": "138f77d3",
   "metadata": {},
   "outputs": [],
   "source": []
  },
  {
   "cell_type": "code",
   "execution_count": 74,
   "id": "1aa2b6bd",
   "metadata": {},
   "outputs": [],
   "source": [
    "dfi = dfo[dfo.bags_used<10]\n",
    "dfi = dfo[dfo.bags_used>0]\n",
    "dfi = dfo[(dfo.total_weight<5e4)]\n",
    "# dfi = dfi[(dfi.hub_id == 4)]\n",
    "dfi.fillna(0.0, inplace=True)"
   ]
  },
  {
   "cell_type": "code",
   "execution_count": 75,
   "id": "71dac976",
   "metadata": {},
   "outputs": [
    {
     "data": {
      "text/plain": [
       "count    302276.000000\n",
       "mean          0.186135\n",
       "std           0.428129\n",
       "min           0.000000\n",
       "1%            0.000000\n",
       "2%            0.000000\n",
       "50%           0.000000\n",
       "95%           1.000000\n",
       "98%           1.000000\n",
       "99%           2.000000\n",
       "99.9%         3.000000\n",
       "max           8.000000\n",
       "Name: deep_frozen_bags_used, dtype: float64"
      ]
     },
     "execution_count": 75,
     "metadata": {},
     "output_type": "execute_result"
    }
   ],
   "source": [
    "dfi.deep_frozen_bags_used.describe(percentiles=[0.01, 0.02, 0.95, 0.98, 0.99, 0.999])"
   ]
  },
  {
   "cell_type": "code",
   "execution_count": 58,
   "id": "b56672e8",
   "metadata": {},
   "outputs": [],
   "source": [
    "extra_features = list() + ['day_of_week']   + ['number_of_week'] + ['delivery_hour']    # + ['day_of_year']\n",
    "features = list(dfi.columns[0:-8]) + extra_features\n",
    "# features"
   ]
  },
  {
   "cell_type": "code",
   "execution_count": 98,
   "id": "880e000f",
   "metadata": {},
   "outputs": [
    {
     "name": "stdout",
     "output_type": "stream",
     "text": [
      "f65: number_of_week\n",
      "f63: total_weight\n",
      "f9: Früchte & Gemüse (cold weight)\n",
      "f8: Früchte & Gemüse (cold VU)\n",
      "f61: total_quantity\n",
      "f60: lint_item_count\n",
      "f66: delivery_hour\n",
      "f31: Getränke & Weine (normal weight)\n",
      "f30: Getränke & Weine (normal VU)\n",
      "f15: Milch & Eier (cold weight)\n"
     ]
    }
   ],
   "source": [
    "print(f\"f65: {features[65]}\")\n",
    "print(f\"f63: {features[63]}\")\n",
    "print(f\"f9: {features[9]}\")\n",
    "print(f\"f8: {features[8]}\")\n",
    "print(f\"f61: {features[61]}\")\n",
    "print(f\"f60: {features[60]}\")\n",
    "print(f\"f66: {features[66]}\")\n",
    "print(f\"f31: {features[31]}\")\n",
    "print(f\"f30: {features[30]}\")\n",
    "print(f\"f15: {features[15]}\")"
   ]
  },
  {
   "cell_type": "code",
   "execution_count": 60,
   "id": "c2bded77",
   "metadata": {},
   "outputs": [],
   "source": [
    "df_enriched = dfi.copy()\n",
    "df_enriched['delivery_time'] = pd.to_datetime(dfi['delivery_time'], utc=True)\n",
    "df_enriched['day_of_year'] = df_enriched['delivery_time'].dt.dayofyear\n",
    "df_enriched['day_of_week'] = df_enriched['delivery_time'].dt.dayofweek\n",
    "df_enriched['number_of_week'] = df_enriched['delivery_time'].dt.isocalendar().week # .dt.week #\n",
    "df_enriched['delivery_hour'] = df_enriched['delivery_time'].dt.hour\n",
    "\n",
    "\n",
    "# 3. Filter the data for the given date range\n",
    "timezone = df_enriched['delivery_time'].iloc[0].tzinfo\n",
    "start_date = pd.to_datetime('2022-09-01').tz_localize(timezone)\n",
    "end_date = pd.to_datetime('2023-09-01').tz_localize(timezone)\n",
    "df_filtered = df_enriched[(df_enriched['delivery_time'] > start_date) & (df_enriched['delivery_time'] < end_date)]\n",
    "\n",
    "# 4. Add 'day_of_year' and 'day_of_week' columns to the filtered data (will only execute if df_filtered is not empty)\n",
    "if df_filtered.empty:\n",
    "  print(\"filtered no data!\")\n",
    "\n",
    "# train = data.sample(frac=0.95)\n",
    "# df_test = df_filtered.loc[~df_filtered.index.isin(df_filtered.index)]\n",
    "\n",
    "sep_test = df_enriched[(df_enriched['delivery_time'] > end_date)] # | (dfi['delivery_time'] < start_date)]\n"
   ]
  },
  {
   "cell_type": "code",
   "execution_count": 61,
   "id": "0d73f3b6",
   "metadata": {},
   "outputs": [],
   "source": [
    "import xgboost as xgb\n",
    "from joblib import dump, load\n",
    "from sklearn.model_selection import train_test_split"
   ]
  },
  {
   "cell_type": "code",
   "execution_count": 62,
   "id": "1542ebc1",
   "metadata": {},
   "outputs": [],
   "source": [
    "import mlflow"
   ]
  },
  {
   "cell_type": "code",
   "execution_count": 63,
   "id": "0298815d",
   "metadata": {},
   "outputs": [],
   "source": [
    "def train_model(target_column, hub_id, features):\n",
    "    target_column_name = target_column+'_used'\n",
    "    forecast_column_name = target_column_name+'_forecast'\n",
    "    \n",
    "    columns = features + [target_column_name] + [forecast_column_name]\n",
    "    data = df_filtered[df_filtered.hub_id==hub_id][columns]\n",
    "    data.dropna(inplace=True)\n",
    "    target = [target_column_name]\n",
    "    \n",
    "    # train = data.sample(frac=0.95)\n",
    "    # test = data.loc[~data.index.isin(train.index)]\n",
    "    \n",
    "    train, test = train_test_split(data, test_size=0.3, random_state=42)\n",
    "    \n",
    "    if (target_column == \"deep_frozen_bags\"):\n",
    "        params = { 'bootstrap': False, \n",
    "        'ccp_alpha': 0.0, \n",
    "        'criterion': 'squared_error', \n",
    "        'max_depth': 30, \n",
    "        'max_features': 'sqrt', \n",
    "        'max_leaf_nodes': None, \n",
    "        'max_samples': None, \n",
    "        'min_impurity_decrease': 0.0, \n",
    "        'min_samples_leaf': 2, \n",
    "        'min_samples_split': 10, \n",
    "        'min_weight_fraction_leaf': 0.0, \n",
    "        'n_estimators': 800, \n",
    "        'n_jobs': 6, \n",
    "        'oob_score': False, \n",
    "        'random_state': 42, \n",
    "        'verbose': 0, \n",
    "        'warm_start': False\n",
    "        }\n",
    "\n",
    "        model = RandomForestRegressor(**params)\n",
    "        \n",
    "    elif (target_column == \"bags\"):\n",
    "        params = {'colsample_bytree': 0.8049310664813739, 'gamma': 0.31904734990860323, 'learning_rate': 0.020987723995735754, 'max_depth': 8, 'n_estimators': 1400, 'objective': 'reg:squarederror', 'random_state': 42, 'subsample': 0.6878477231583816, 'verbosity': 1}\n",
    "        \n",
    "        model = xgb.XGBRegressor(**params, device=\"cuda\", tree_method=\"gpu_hist\",\n",
    "                                 #objective=\"reg:squarederror\", random_state=42, \n",
    "                                 #colsample_bytree=0.804, gamma=0.31904, \n",
    "                                 #learning_rate=0.02098, max_depth=8, n_estimators=1400, \n",
    "                                 #subsample=0.6878477231583816,\n",
    "                                 #verbosity=0\n",
    "                                )\n",
    "        # model = mlflow.pyfunc.load_model('/home/sir/farmy/ch.farmy.scinode/development/9631-update/mlruns/8/dfeb8badb69c493d91fab39c78c9999e/artifacts/model')\n",
    "    else:\n",
    "        params = {'colsample_bytree': 0.9332506592696221, 'gamma': 0.33126595740822656, 'learning_rate': 0.011121117890656158, 'max_depth': 8, 'n_estimators': 700, 'objective': 'reg:linear', 'random_state': 42, 'subsample': 0.5581688088227714, 'verbosity': 1}\n",
    "        model = xgb.XGBRegressor(**params, device=\"cuda\", tree_method=\"gpu_hist\")\n",
    "        \n",
    "    model.fit(train[features].values, train[target].values)\n",
    "    \n",
    "    \n",
    "    print(\"Mean Squared Error between {} and:\".format(target_column))\n",
    "    y_forecast = data[forecast_column_name].values.flatten()\n",
    "    mse_forecast = mean_squared_error(data[target].values.flatten(), y_forecast)\n",
    "    print(\"forecast from DB:           {:.5f} (should be worst)\".format(mse_forecast))\n",
    "\n",
    "    y_test = model.predict(test[features].values).flatten()\n",
    "    mse_test = mean_squared_error(test[target].values.flatten(), np.around(y_test))\n",
    "    print(\"prediction for test slice:  {:.5f} ({:.2f}% improvement)\".format(mse_test, (mse_forecast-mse_test)/mse_test*100))\n",
    "\n",
    "    y_test = model.predict(sep_test[features].values).flatten()\n",
    "    mse_sep = mean_squared_error(sep_test[target].values.flatten(), np.around(y_test))\n",
    "    print(\"prediction for Sept slice:  {:.5f} ({:.2f}% improvement)\".format(mse_sep, (mse_forecast-mse_sep)/mse_sep*100))\n",
    "\n",
    "    y_train = model.predict(train[features].values).flatten()\n",
    "    mse_train = mean_squared_error(train[target].values.flatten(), np.around(y_train))\n",
    "    print(\"prediction for train slice: {:.5f} (should be smallest but not differ a lot from test MSE)\".format(mse_train))\n",
    "                \n",
    "    dump(model, 'new/{}_model_v3_hub_{}.joblib'.format(target_column, hub_id), compress=True)\n",
    "    return model"
   ]
  },
  {
   "cell_type": "code",
   "execution_count": 64,
   "id": "4cd8efaa",
   "metadata": {},
   "outputs": [
    {
     "name": "stdout",
     "output_type": "stream",
     "text": [
      "2022-09-01 00:00:00+00:00-2023-09-01 00:00:00+00:00 for ['day_of_week', 'number_of_week', 'delivery_hour']\n",
      "hub  1\n",
      "Mean Squared Error between cold_bags and:\n",
      "forecast from DB:           0.14279 (should be worst)\n",
      "prediction for test slice:  0.11760 (21.42% improvement)\n",
      "prediction for Sept slice:  0.16786 (-14.94% improvement)\n",
      "prediction for train slice: 0.09245 (should be smallest but not differ a lot from test MSE)\n"
     ]
    },
    {
     "ename": "KeyboardInterrupt",
     "evalue": "",
     "output_type": "error",
     "traceback": [
      "\u001b[0;31m---------------------------------------------------------------------------\u001b[0m",
      "\u001b[0;31mKeyboardInterrupt\u001b[0m                         Traceback (most recent call last)",
      "Cell \u001b[0;32mIn[64], line 6\u001b[0m\n\u001b[1;32m      4\u001b[0m     \u001b[38;5;28mprint\u001b[39m(\u001b[38;5;124m\"\u001b[39m\u001b[38;5;124mhub \u001b[39m\u001b[38;5;124m\"\u001b[39m,hub_id)\n\u001b[1;32m      5\u001b[0m     \u001b[38;5;28;01mfor\u001b[39;00m target_column \u001b[38;5;129;01min\u001b[39;00m target_columns:\n\u001b[0;32m----> 6\u001b[0m         model \u001b[38;5;241m=\u001b[39m \u001b[43mtrain_model\u001b[49m\u001b[43m(\u001b[49m\u001b[43mtarget_column\u001b[49m\u001b[43m,\u001b[49m\u001b[43m \u001b[49m\u001b[43mhub_id\u001b[49m\u001b[43m,\u001b[49m\u001b[43m \u001b[49m\u001b[43mfeatures\u001b[49m\u001b[43m)\u001b[49m\n\u001b[1;32m      7\u001b[0m \u001b[38;5;28mprint\u001b[39m(model\u001b[38;5;241m.\u001b[39mget_params())\n",
      "Cell \u001b[0;32mIn[63], line 52\u001b[0m, in \u001b[0;36mtrain_model\u001b[0;34m(target_column, hub_id, features)\u001b[0m\n\u001b[1;32m     49\u001b[0m     params \u001b[38;5;241m=\u001b[39m {\u001b[38;5;124m'\u001b[39m\u001b[38;5;124mcolsample_bytree\u001b[39m\u001b[38;5;124m'\u001b[39m: \u001b[38;5;241m0.9332506592696221\u001b[39m, \u001b[38;5;124m'\u001b[39m\u001b[38;5;124mgamma\u001b[39m\u001b[38;5;124m'\u001b[39m: \u001b[38;5;241m0.33126595740822656\u001b[39m, \u001b[38;5;124m'\u001b[39m\u001b[38;5;124mlearning_rate\u001b[39m\u001b[38;5;124m'\u001b[39m: \u001b[38;5;241m0.011121117890656158\u001b[39m, \u001b[38;5;124m'\u001b[39m\u001b[38;5;124mmax_depth\u001b[39m\u001b[38;5;124m'\u001b[39m: \u001b[38;5;241m8\u001b[39m, \u001b[38;5;124m'\u001b[39m\u001b[38;5;124mn_estimators\u001b[39m\u001b[38;5;124m'\u001b[39m: \u001b[38;5;241m700\u001b[39m, \u001b[38;5;124m'\u001b[39m\u001b[38;5;124mobjective\u001b[39m\u001b[38;5;124m'\u001b[39m: \u001b[38;5;124m'\u001b[39m\u001b[38;5;124mreg:linear\u001b[39m\u001b[38;5;124m'\u001b[39m, \u001b[38;5;124m'\u001b[39m\u001b[38;5;124mrandom_state\u001b[39m\u001b[38;5;124m'\u001b[39m: \u001b[38;5;241m42\u001b[39m, \u001b[38;5;124m'\u001b[39m\u001b[38;5;124msubsample\u001b[39m\u001b[38;5;124m'\u001b[39m: \u001b[38;5;241m0.5581688088227714\u001b[39m, \u001b[38;5;124m'\u001b[39m\u001b[38;5;124mverbosity\u001b[39m\u001b[38;5;124m'\u001b[39m: \u001b[38;5;241m1\u001b[39m}\n\u001b[1;32m     50\u001b[0m     model \u001b[38;5;241m=\u001b[39m xgb\u001b[38;5;241m.\u001b[39mXGBRegressor(\u001b[38;5;241m*\u001b[39m\u001b[38;5;241m*\u001b[39mparams, device\u001b[38;5;241m=\u001b[39m\u001b[38;5;124m\"\u001b[39m\u001b[38;5;124mcuda\u001b[39m\u001b[38;5;124m\"\u001b[39m, tree_method\u001b[38;5;241m=\u001b[39m\u001b[38;5;124m\"\u001b[39m\u001b[38;5;124mgpu_hist\u001b[39m\u001b[38;5;124m\"\u001b[39m)\n\u001b[0;32m---> 52\u001b[0m \u001b[43mmodel\u001b[49m\u001b[38;5;241;43m.\u001b[39;49m\u001b[43mfit\u001b[49m\u001b[43m(\u001b[49m\u001b[43mtrain\u001b[49m\u001b[43m[\u001b[49m\u001b[43mfeatures\u001b[49m\u001b[43m]\u001b[49m\u001b[38;5;241;43m.\u001b[39;49m\u001b[43mvalues\u001b[49m\u001b[43m,\u001b[49m\u001b[43m \u001b[49m\u001b[43mtrain\u001b[49m\u001b[43m[\u001b[49m\u001b[43mtarget\u001b[49m\u001b[43m]\u001b[49m\u001b[38;5;241;43m.\u001b[39;49m\u001b[43mvalues\u001b[49m\u001b[43m)\u001b[49m\n\u001b[1;32m     55\u001b[0m \u001b[38;5;28mprint\u001b[39m(\u001b[38;5;124m\"\u001b[39m\u001b[38;5;124mMean Squared Error between \u001b[39m\u001b[38;5;132;01m{}\u001b[39;00m\u001b[38;5;124m and:\u001b[39m\u001b[38;5;124m\"\u001b[39m\u001b[38;5;241m.\u001b[39mformat(target_column))\n\u001b[1;32m     56\u001b[0m y_forecast \u001b[38;5;241m=\u001b[39m data[forecast_column_name]\u001b[38;5;241m.\u001b[39mvalues\u001b[38;5;241m.\u001b[39mflatten()\n",
      "File \u001b[0;32m~/miniconda3/envs/bags311/lib/python3.11/site-packages/xgboost/core.py:730\u001b[0m, in \u001b[0;36mrequire_keyword_args.<locals>.throw_if.<locals>.inner_f\u001b[0;34m(*args, **kwargs)\u001b[0m\n\u001b[1;32m    728\u001b[0m \u001b[38;5;28;01mfor\u001b[39;00m k, arg \u001b[38;5;129;01min\u001b[39;00m \u001b[38;5;28mzip\u001b[39m(sig\u001b[38;5;241m.\u001b[39mparameters, args):\n\u001b[1;32m    729\u001b[0m     kwargs[k] \u001b[38;5;241m=\u001b[39m arg\n\u001b[0;32m--> 730\u001b[0m \u001b[38;5;28;01mreturn\u001b[39;00m \u001b[43mfunc\u001b[49m\u001b[43m(\u001b[49m\u001b[38;5;241;43m*\u001b[39;49m\u001b[38;5;241;43m*\u001b[39;49m\u001b[43mkwargs\u001b[49m\u001b[43m)\u001b[49m\n",
      "File \u001b[0;32m~/miniconda3/envs/bags311/lib/python3.11/site-packages/xgboost/sklearn.py:1090\u001b[0m, in \u001b[0;36mXGBModel.fit\u001b[0;34m(self, X, y, sample_weight, base_margin, eval_set, eval_metric, early_stopping_rounds, verbose, xgb_model, sample_weight_eval_set, base_margin_eval_set, feature_weights, callbacks)\u001b[0m\n\u001b[1;32m   1079\u001b[0m     obj \u001b[38;5;241m=\u001b[39m \u001b[38;5;28;01mNone\u001b[39;00m\n\u001b[1;32m   1081\u001b[0m (\n\u001b[1;32m   1082\u001b[0m     model,\n\u001b[1;32m   1083\u001b[0m     metric,\n\u001b[0;32m   (...)\u001b[0m\n\u001b[1;32m   1088\u001b[0m     xgb_model, eval_metric, params, early_stopping_rounds, callbacks\n\u001b[1;32m   1089\u001b[0m )\n\u001b[0;32m-> 1090\u001b[0m \u001b[38;5;28mself\u001b[39m\u001b[38;5;241m.\u001b[39m_Booster \u001b[38;5;241m=\u001b[39m \u001b[43mtrain\u001b[49m\u001b[43m(\u001b[49m\n\u001b[1;32m   1091\u001b[0m \u001b[43m    \u001b[49m\u001b[43mparams\u001b[49m\u001b[43m,\u001b[49m\n\u001b[1;32m   1092\u001b[0m \u001b[43m    \u001b[49m\u001b[43mtrain_dmatrix\u001b[49m\u001b[43m,\u001b[49m\n\u001b[1;32m   1093\u001b[0m \u001b[43m    \u001b[49m\u001b[38;5;28;43mself\u001b[39;49m\u001b[38;5;241;43m.\u001b[39;49m\u001b[43mget_num_boosting_rounds\u001b[49m\u001b[43m(\u001b[49m\u001b[43m)\u001b[49m\u001b[43m,\u001b[49m\n\u001b[1;32m   1094\u001b[0m \u001b[43m    \u001b[49m\u001b[43mevals\u001b[49m\u001b[38;5;241;43m=\u001b[39;49m\u001b[43mevals\u001b[49m\u001b[43m,\u001b[49m\n\u001b[1;32m   1095\u001b[0m \u001b[43m    \u001b[49m\u001b[43mearly_stopping_rounds\u001b[49m\u001b[38;5;241;43m=\u001b[39;49m\u001b[43mearly_stopping_rounds\u001b[49m\u001b[43m,\u001b[49m\n\u001b[1;32m   1096\u001b[0m \u001b[43m    \u001b[49m\u001b[43mevals_result\u001b[49m\u001b[38;5;241;43m=\u001b[39;49m\u001b[43mevals_result\u001b[49m\u001b[43m,\u001b[49m\n\u001b[1;32m   1097\u001b[0m \u001b[43m    \u001b[49m\u001b[43mobj\u001b[49m\u001b[38;5;241;43m=\u001b[39;49m\u001b[43mobj\u001b[49m\u001b[43m,\u001b[49m\n\u001b[1;32m   1098\u001b[0m \u001b[43m    \u001b[49m\u001b[43mcustom_metric\u001b[49m\u001b[38;5;241;43m=\u001b[39;49m\u001b[43mmetric\u001b[49m\u001b[43m,\u001b[49m\n\u001b[1;32m   1099\u001b[0m \u001b[43m    \u001b[49m\u001b[43mverbose_eval\u001b[49m\u001b[38;5;241;43m=\u001b[39;49m\u001b[43mverbose\u001b[49m\u001b[43m,\u001b[49m\n\u001b[1;32m   1100\u001b[0m \u001b[43m    \u001b[49m\u001b[43mxgb_model\u001b[49m\u001b[38;5;241;43m=\u001b[39;49m\u001b[43mmodel\u001b[49m\u001b[43m,\u001b[49m\n\u001b[1;32m   1101\u001b[0m \u001b[43m    \u001b[49m\u001b[43mcallbacks\u001b[49m\u001b[38;5;241;43m=\u001b[39;49m\u001b[43mcallbacks\u001b[49m\u001b[43m,\u001b[49m\n\u001b[1;32m   1102\u001b[0m \u001b[43m\u001b[49m\u001b[43m)\u001b[49m\n\u001b[1;32m   1104\u001b[0m \u001b[38;5;28mself\u001b[39m\u001b[38;5;241m.\u001b[39m_set_evaluation_result(evals_result)\n\u001b[1;32m   1105\u001b[0m \u001b[38;5;28;01mreturn\u001b[39;00m \u001b[38;5;28mself\u001b[39m\n",
      "File \u001b[0;32m~/miniconda3/envs/bags311/lib/python3.11/site-packages/xgboost/core.py:730\u001b[0m, in \u001b[0;36mrequire_keyword_args.<locals>.throw_if.<locals>.inner_f\u001b[0;34m(*args, **kwargs)\u001b[0m\n\u001b[1;32m    728\u001b[0m \u001b[38;5;28;01mfor\u001b[39;00m k, arg \u001b[38;5;129;01min\u001b[39;00m \u001b[38;5;28mzip\u001b[39m(sig\u001b[38;5;241m.\u001b[39mparameters, args):\n\u001b[1;32m    729\u001b[0m     kwargs[k] \u001b[38;5;241m=\u001b[39m arg\n\u001b[0;32m--> 730\u001b[0m \u001b[38;5;28;01mreturn\u001b[39;00m \u001b[43mfunc\u001b[49m\u001b[43m(\u001b[49m\u001b[38;5;241;43m*\u001b[39;49m\u001b[38;5;241;43m*\u001b[39;49m\u001b[43mkwargs\u001b[49m\u001b[43m)\u001b[49m\n",
      "File \u001b[0;32m~/miniconda3/envs/bags311/lib/python3.11/site-packages/xgboost/training.py:181\u001b[0m, in \u001b[0;36mtrain\u001b[0;34m(params, dtrain, num_boost_round, evals, obj, feval, maximize, early_stopping_rounds, evals_result, verbose_eval, xgb_model, callbacks, custom_metric)\u001b[0m\n\u001b[1;32m    179\u001b[0m \u001b[38;5;28;01mif\u001b[39;00m cb_container\u001b[38;5;241m.\u001b[39mbefore_iteration(bst, i, dtrain, evals):\n\u001b[1;32m    180\u001b[0m     \u001b[38;5;28;01mbreak\u001b[39;00m\n\u001b[0;32m--> 181\u001b[0m \u001b[43mbst\u001b[49m\u001b[38;5;241;43m.\u001b[39;49m\u001b[43mupdate\u001b[49m\u001b[43m(\u001b[49m\u001b[43mdtrain\u001b[49m\u001b[43m,\u001b[49m\u001b[43m \u001b[49m\u001b[43mi\u001b[49m\u001b[43m,\u001b[49m\u001b[43m \u001b[49m\u001b[43mobj\u001b[49m\u001b[43m)\u001b[49m\n\u001b[1;32m    182\u001b[0m \u001b[38;5;28;01mif\u001b[39;00m cb_container\u001b[38;5;241m.\u001b[39mafter_iteration(bst, i, dtrain, evals):\n\u001b[1;32m    183\u001b[0m     \u001b[38;5;28;01mbreak\u001b[39;00m\n",
      "File \u001b[0;32m~/miniconda3/envs/bags311/lib/python3.11/site-packages/xgboost/core.py:2051\u001b[0m, in \u001b[0;36mBooster.update\u001b[0;34m(self, dtrain, iteration, fobj)\u001b[0m\n\u001b[1;32m   2047\u001b[0m \u001b[38;5;28mself\u001b[39m\u001b[38;5;241m.\u001b[39m_assign_dmatrix_features(dtrain)\n\u001b[1;32m   2049\u001b[0m \u001b[38;5;28;01mif\u001b[39;00m fobj \u001b[38;5;129;01mis\u001b[39;00m \u001b[38;5;28;01mNone\u001b[39;00m:\n\u001b[1;32m   2050\u001b[0m     _check_call(\n\u001b[0;32m-> 2051\u001b[0m         \u001b[43m_LIB\u001b[49m\u001b[38;5;241;43m.\u001b[39;49m\u001b[43mXGBoosterUpdateOneIter\u001b[49m\u001b[43m(\u001b[49m\n\u001b[1;32m   2052\u001b[0m \u001b[43m            \u001b[49m\u001b[38;5;28;43mself\u001b[39;49m\u001b[38;5;241;43m.\u001b[39;49m\u001b[43mhandle\u001b[49m\u001b[43m,\u001b[49m\u001b[43m \u001b[49m\u001b[43mctypes\u001b[49m\u001b[38;5;241;43m.\u001b[39;49m\u001b[43mc_int\u001b[49m\u001b[43m(\u001b[49m\u001b[43miteration\u001b[49m\u001b[43m)\u001b[49m\u001b[43m,\u001b[49m\u001b[43m \u001b[49m\u001b[43mdtrain\u001b[49m\u001b[38;5;241;43m.\u001b[39;49m\u001b[43mhandle\u001b[49m\n\u001b[1;32m   2053\u001b[0m \u001b[43m        \u001b[49m\u001b[43m)\u001b[49m\n\u001b[1;32m   2054\u001b[0m     )\n\u001b[1;32m   2055\u001b[0m \u001b[38;5;28;01melse\u001b[39;00m:\n\u001b[1;32m   2056\u001b[0m     pred \u001b[38;5;241m=\u001b[39m \u001b[38;5;28mself\u001b[39m\u001b[38;5;241m.\u001b[39mpredict(dtrain, output_margin\u001b[38;5;241m=\u001b[39m\u001b[38;5;28;01mTrue\u001b[39;00m, training\u001b[38;5;241m=\u001b[39m\u001b[38;5;28;01mTrue\u001b[39;00m)\n",
      "\u001b[0;31mKeyboardInterrupt\u001b[0m: "
     ]
    }
   ],
   "source": [
    "print('{}-{} for {}'.format(start_date, end_date, extra_features))\n",
    "target_columns = [ 'cold_bags', 'bags'] # 'deep_frozen_bags', \n",
    "for hub_id in [1]:\n",
    "    print(\"hub \",hub_id)\n",
    "    for target_column in target_columns:\n",
    "        model = train_model(target_column, hub_id, features)\n",
    "print(model.get_params())"
   ]
  },
  {
   "cell_type": "code",
   "execution_count": null,
   "id": "0c814f6b",
   "metadata": {},
   "outputs": [],
   "source": []
  },
  {
   "cell_type": "code",
   "execution_count": null,
   "id": "e2574c72",
   "metadata": {},
   "outputs": [],
   "source": []
  }
 ],
 "metadata": {
  "kernelspec": {
   "display_name": "ipbags311",
   "language": "python",
   "name": "ipbags311"
  },
  "language_info": {
   "codemirror_mode": {
    "name": "ipython",
    "version": 3
   },
   "file_extension": ".py",
   "mimetype": "text/x-python",
   "name": "python",
   "nbconvert_exporter": "python",
   "pygments_lexer": "ipython3",
   "version": "3.11.5"
  }
 },
 "nbformat": 4,
 "nbformat_minor": 5
}
